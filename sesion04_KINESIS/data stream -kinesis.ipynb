{
 "cells": [
  {
   "cell_type": "code",
   "execution_count": 19,
   "metadata": {},
   "outputs": [
    {
     "name": "stdout",
     "output_type": "stream",
     "text": [
      "{'id_compra': '7e210b45-2203-46c0-89eb-a6aa7d326901', 'producto': 'Funko pop aliens'}\n",
      "{'id_compra': '9658dc8b-fb04-450f-9d82-4feffaeb026a', 'producto': 'Funko pop aliens'}\n",
      "{'id_compra': '081c5ab4-e727-4e2c-b73e-609e684058f8', 'producto': 'Funko pop aliens'}\n",
      "{'id_compra': '0bc5fa38-1360-49a6-b5db-e836f828bf7e', 'producto': 'pollo'}\n",
      "{'id_compra': 'f0c37c62-a366-4177-b8ca-d05bf7715393', 'producto': 'carne de res'}\n",
      "{'id_compra': '8c30428b-4724-46db-9a37-97daf4497531', 'producto': 'pollo'}\n",
      "{'id_compra': 'f890bcc5-0c6c-4c26-b100-dd859c2c84a1', 'producto': 'pollo'}\n",
      "{'id_compra': '2c6bdebc-fecb-422a-ad54-e671b93bb434', 'producto': 'pollo'}\n",
      "{'id_compra': 'a10f73da-26b2-4f05-b70e-068610e39992', 'producto': 'pollo'}\n",
      "{'id_compra': '339a335b-1137-4e40-b8b7-ab0e31dc5acd', 'producto': 'Funko pop aliens'}\n",
      "{'id_compra': 'cd56e605-01b1-4188-914f-527d858948e1', 'producto': 'pollo'}\n",
      "{'id_compra': 'a0b4229f-4b9a-48d8-b2fe-52caea2c9c32', 'producto': 'Funko pop aliens'}\n",
      "{'id_compra': 'dd85cee9-50f2-4ddf-adfa-0a1bd09ab8fc', 'producto': 'carne de res'}\n",
      "{'id_compra': '2800b813-991a-4b67-a479-010b59dbf1a8', 'producto': 'papas'}\n",
      "{'id_compra': 'f024f678-6a3b-43c9-b738-98d051b2ce6d', 'producto': 'papas'}\n",
      "{'id_compra': 'cdd2201f-9723-4709-9df2-0f391f2f6fba', 'producto': 'pimienta'}\n",
      "{'id_compra': 'e79460bb-43ef-41f6-820a-48d2fcfa6378', 'producto': 'papas'}\n",
      "{'id_compra': '05fc60fe-6d8d-4be4-8867-fa395819d9b0', 'producto': 'papas'}\n",
      "{'id_compra': '45353726-27f2-4e76-b113-6fa94c3a9b2c', 'producto': 'pimienta'}\n",
      "{'id_compra': 'fb0948a2-a42d-4e9a-80b6-b4fa7b5a826c', 'producto': 'carne de res'}\n"
     ]
    }
   ],
   "source": [
    "import boto3\n",
    "import json\n",
    "from datetime import datetime\n",
    "import calendar\n",
    "import random\n",
    "import time\n",
    "import uuid\n",
    "import sys\n",
    "import pytz\n",
    "\n",
    "tz_lima = pytz.timezone('America/Lima')\n",
    "\n",
    "name_stream = 'productos'\n",
    "list_products = ['pollo', 'papas', 'pimienta','carne de res','Funko pop aliens']\n",
    "\n",
    "kinesis = boto3.client('kinesis', region_name = 'us-east-2')\n",
    "\n",
    "def put_to_stream(kinesis):\n",
    "    datetime_lima = datetime.now(tz_lima)\n",
    "    record = {\n",
    "        'id_compra': str(uuid.uuid4()),\n",
    "        #'fecha_reg': datetime_lima.strftime(\"%Y-%m-%d %H:%M:%S\"),\n",
    "        'producto': random.choice(list_products)\n",
    "    }\n",
    "    print(record)\n",
    "    kinesis.put_record(\n",
    "        StreamName = name_stream,\n",
    "        Data = json.dumps(record),\n",
    "        PartitionKey = 'a-partition'\n",
    "    )\n",
    "\n",
    "i = 0\n",
    "while i < 20:\n",
    "    i += 1\n",
    "    put_to_stream(kinesis)\n",
    "    time.sleep(.3)\n",
    "\n",
    "\n"
   ]
  }
 ],
 "metadata": {
  "kernelspec": {
   "display_name": "conda_python3",
   "language": "python",
   "name": "conda_python3"
  },
  "language_info": {
   "codemirror_mode": {
    "name": "ipython",
    "version": 3
   },
   "file_extension": ".py",
   "mimetype": "text/x-python",
   "name": "python",
   "nbconvert_exporter": "python",
   "pygments_lexer": "ipython3",
   "version": "3.6.10"
  }
 },
 "nbformat": 4,
 "nbformat_minor": 4
}
