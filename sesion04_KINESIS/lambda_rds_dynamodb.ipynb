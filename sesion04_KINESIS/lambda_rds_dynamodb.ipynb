{
 "cells": [
  {
   "cell_type": "code",
   "execution_count": null,
   "metadata": {},
   "outputs": [],
   "source": [
    "!pip install mysql-connector boto3 cython PyHamcrest\n"
   ]
  },
  {
   "cell_type": "code",
   "execution_count": 1,
   "metadata": {},
   "outputs": [],
   "source": [
    "endpoint = \"example-aqs.ci1ykpa2ytax.us-east-2.rds.amazonaws.com\" # Esta es la IP para la base de datos\n",
    "lambdaRole = \"arn:aws:iam::410253224468:role/cfst-1048-95df4023b0fe7844f9265c3f01cb-ALambdaRole-1396SFBQTLRG1\" # Este es el rol de la función lambda\n",
    "username = \"example\"\n",
    "password = \"example1.\"\n",
    "dbname = \"moviesdb\"\n",
    "tablename = \"Movies_aqs\""
   ]
  },
  {
   "cell_type": "code",
   "execution_count": 2,
   "metadata": {},
   "outputs": [],
   "source": [
    "#establece conexion RDS\n",
    "\n",
    "import mysql.connector\n",
    "\n",
    "mydb = mysql.connector.connect(\n",
    "  host= endpoint,\n",
    "  user= username,\n",
    "  passwd= password\n",
    ")\n",
    "\n",
    "mycursor = mydb.cursor()\n",
    "\n"
   ]
  },
  {
   "cell_type": "code",
   "execution_count": null,
   "metadata": {},
   "outputs": [],
   "source": [
    "#crea base de datos\n",
    "mycursor = mydb.cursor()\n",
    "mycursor.execute(\"CREATE DATABASE \" + dbname)"
   ]
  },
  {
   "cell_type": "code",
   "execution_count": 3,
   "metadata": {},
   "outputs": [
    {
     "name": "stdout",
     "output_type": "stream",
     "text": [
      "(bytearray(b'example'),)\n",
      "(bytearray(b'information_schema'),)\n",
      "(bytearray(b'moviesdb'),)\n",
      "(bytearray(b'mysql'),)\n",
      "(bytearray(b'performance_schema'),)\n"
     ]
    }
   ],
   "source": [
    "#muestra las base de datos\n",
    "mycursor.execute(\"SHOW DATABASES\")\n",
    "\n",
    "for x in mycursor:\n",
    "    print(x)"
   ]
  },
  {
   "cell_type": "code",
   "execution_count": 6,
   "metadata": {},
   "outputs": [],
   "source": [
    "#crear tabla \n",
    "mydb = mysql.connector.connect(\n",
    "  host= endpoint,\n",
    "  user= username,\n",
    "  passwd= password,\n",
    "  database= dbname\n",
    ")\n",
    "# \n",
    "mycursor = mydb.cursor()\n",
    "mycursor.execute(\"CREATE TABLE \" + tablename + \" (Year INT, Title VARCHAR(255), Actor VARCHAR(255), Rating INT, Runtime INT, Uploaded VARCHAR(255))\")\n",
    "mycursor.execute(\"ALTER TABLE \" + tablename + \" ADD COLUMN id INT AUTO_INCREMENT PRIMARY KEY\")"
   ]
  },
  {
   "cell_type": "code",
   "execution_count": null,
   "metadata": {},
   "outputs": [],
   "source": [
    "#base de datos dynamodb crea\n",
    "import boto3\n",
    "dynamodb = boto3.resource('dynamodb',  region_name='us-east-2')\n",
    "\n",
    "\n",
    "table = dynamodb.create_table(\n",
    "   TableName='Movies-aqs',\n",
    "   KeySchema=[\n",
    "       {\n",
    "           'AttributeName': 'year',\n",
    "           'KeyType': 'HASH'  #Partition key\n",
    "       },\n",
    "       {\n",
    "           'AttributeName': 'title',\n",
    "           'KeyType': 'RANGE'  #Sort key\n",
    "       }\n",
    "   ],\n",
    "   AttributeDefinitions=[\n",
    "       {\n",
    "           'AttributeName': 'year',\n",
    "           'AttributeType': 'N'\n",
    "       },\n",
    "       {\n",
    "           'AttributeName': 'title',\n",
    "           'AttributeType': 'S'\n",
    "       },\n",
    "\n",
    "   ],\n",
    "   ProvisionedThroughput={\n",
    "       'ReadCapacityUnits': 2,\n",
    "       'WriteCapacityUnits': 2\n",
    "   }\n",
    ")\n",
    "\n",
    "# Wait until the table exists.\n",
    "table.meta.client.get_waiter('table_exists').wait(TableName='Movies')\n",
    "print('Table is ready, please continue as instructed.')"
   ]
  },
  {
   "cell_type": "code",
   "execution_count": 11,
   "metadata": {},
   "outputs": [],
   "source": [
    "#crea la funcion lambda\n",
    "import boto3\n",
    "client = boto3.client('lambda',  region_name='us-east-2')\n",
    "lambdarole = \"arn:aws:iam::410728552766:role/lambda_permiso\"\n",
    "\n",
    "response = client.create_function(\n",
    "    FunctionName='carga_archivosdynamo_aqs_v2',\n",
    "    Runtime='nodejs12.x',\n",
    "    Role= lambdarole,\n",
    "    Handler='index.handler',\n",
    "    Code={\n",
    "        'ZipFile': open('/home/ec2-user/SageMaker/aquevedo/ddbStream.zip', 'rb').read()\n",
    "    },\n",
    "    Description='Extracts from DynamoDB Stream and adds to Relational DB',\n",
    "    Timeout=5,\n",
    "    Environment={\n",
    "        'Variables': {\n",
    "            'endPoint': endpoint\n",
    "        }\n",
    "    }\n",
    ")"
   ]
  },
  {
   "cell_type": "code",
   "execution_count": 15,
   "metadata": {},
   "outputs": [
    {
     "name": "stdout",
     "output_type": "stream",
     "text": [
      "Adding movie: 2013 Rush Daniel Bruhl 8.3 7380 no\n",
      "Adding movie: 2013 Prisoners Hugh Jackman 8.2 9180 no\n",
      "Adding movie: 2013 This Is the End James Franco 7.2 6420 yes\n"
     ]
    }
   ],
   "source": [
    "#carga datos a dynamodb y automaticamente carga a mysql\n",
    "from __future__ import print_function # Python 2/3 compatibility\n",
    "import boto3\n",
    "import json\n",
    "import decimal\n",
    "import sys\n",
    "import random\n",
    "dynamodb = boto3.resource('dynamodb',  region_name='us-east-2')\n",
    "table = dynamodb.Table('Movies-aqs')\n",
    "\n",
    "choices = ['yes', 'no']\n",
    "i = 0\n",
    "with open(\"/home/ec2-user/SageMaker/aquevedo/moviedata.json\") as json_file:\n",
    "    with table.batch_writer() as batch:\n",
    "        movies = json.load(json_file, parse_float = decimal.Decimal)\n",
    "        for movie in movies:\n",
    "            i = i + 1\n",
    "            if i == 101:\n",
    "                break\n",
    "            year = int(movie['year'])\n",
    "            title = movie['title']\n",
    "            star = movie['actors'][0]\n",
    "            rating = movie['rating']\n",
    "            running_time = movie['running_time_secs']\n",
    "            uploaded = random.choice(choices)\n",
    "\n",
    "            print(\"Adding movie:\", year, title, star, rating, running_time, uploaded)\n",
    "\n",
    "            batch.put_item(\n",
    "               Item={\n",
    "                   'year': year,\n",
    "                   'title': title,\n",
    "                   'actor': star,\n",
    "                   'rating': rating,\n",
    "                   'running_time': running_time,\n",
    "                   'uploaded' : uploaded\n",
    "                }\n",
    "            )\n"
   ]
  },
  {
   "cell_type": "code",
   "execution_count": 17,
   "metadata": {},
   "outputs": [
    {
     "data": {
      "text/html": [
       "<div>\n",
       "<style scoped>\n",
       "    .dataframe tbody tr th:only-of-type {\n",
       "        vertical-align: middle;\n",
       "    }\n",
       "\n",
       "    .dataframe tbody tr th {\n",
       "        vertical-align: top;\n",
       "    }\n",
       "\n",
       "    .dataframe thead th {\n",
       "        text-align: right;\n",
       "    }\n",
       "</style>\n",
       "<table border=\"1\" class=\"dataframe\">\n",
       "  <thead>\n",
       "    <tr style=\"text-align: right;\">\n",
       "      <th></th>\n",
       "      <th>id</th>\n",
       "      <th>year</th>\n",
       "      <th>title</th>\n",
       "      <th>actor</th>\n",
       "      <th>running_time</th>\n",
       "      <th>rating</th>\n",
       "      <th>uploaded</th>\n",
       "    </tr>\n",
       "  </thead>\n",
       "  <tbody>\n",
       "    <tr>\n",
       "      <th>0</th>\n",
       "      <td>1</td>\n",
       "      <td>2013</td>\n",
       "      <td>Rush</td>\n",
       "      <td>Daniel Bruhl</td>\n",
       "      <td>7380</td>\n",
       "      <td>8</td>\n",
       "      <td>no</td>\n",
       "    </tr>\n",
       "    <tr>\n",
       "      <th>1</th>\n",
       "      <td>2</td>\n",
       "      <td>2013</td>\n",
       "      <td>Prisoners</td>\n",
       "      <td>Hugh Jackman</td>\n",
       "      <td>9180</td>\n",
       "      <td>8</td>\n",
       "      <td>no</td>\n",
       "    </tr>\n",
       "    <tr>\n",
       "      <th>2</th>\n",
       "      <td>3</td>\n",
       "      <td>2013</td>\n",
       "      <td>This Is the End</td>\n",
       "      <td>James Franco</td>\n",
       "      <td>6420</td>\n",
       "      <td>7</td>\n",
       "      <td>yes</td>\n",
       "    </tr>\n",
       "  </tbody>\n",
       "</table>\n",
       "</div>"
      ],
      "text/plain": [
       "   id  year            title         actor  running_time  rating uploaded\n",
       "0   1  2013             Rush  Daniel Bruhl          7380       8       no\n",
       "1   2  2013        Prisoners  Hugh Jackman          9180       8       no\n",
       "2   3  2013  This Is the End  James Franco          6420       7      yes"
      ]
     },
     "execution_count": 17,
     "metadata": {},
     "output_type": "execute_result"
    }
   ],
   "source": [
    "import pandas as pd\n",
    "\n",
    "mydb.commit()\n",
    "mycursor = mydb.cursor()\n",
    "mycursor.execute(\"SELECT * FROM moviesdb.\" + tablename +\";\")\n",
    "\n",
    "myresult = mycursor.fetchall()\n",
    "\n",
    "item_list = []\n",
    "for i in myresult:\n",
    "    item = {'id':i[6], \n",
    "            'title':i[1], \n",
    "            'actor' :i[2], \n",
    "            'rating' :i[3], \n",
    "            'running_time' :i[4], \n",
    "            'uploaded' :i[5],\n",
    "            'year' :i[0]}\n",
    "    item_list.append(item)\n",
    "df = pd.DataFrame(data=item_list,columns=['id','year','title','actor','running_time','rating','uploaded'])\n",
    "df.head(30)"
   ]
  },
  {
   "cell_type": "code",
   "execution_count": 14,
   "metadata": {},
   "outputs": [],
   "source": [
    "mycursor = mydb.cursor()\n",
    "mycursor.execute(\"truncate table moviesdb.\" + tablename)"
   ]
  }
 ],
 "metadata": {
  "kernelspec": {
   "display_name": "conda_python3",
   "language": "python",
   "name": "conda_python3"
  },
  "language_info": {
   "codemirror_mode": {
    "name": "ipython",
    "version": 3
   },
   "file_extension": ".py",
   "mimetype": "text/x-python",
   "name": "python",
   "nbconvert_exporter": "python",
   "pygments_lexer": "ipython3",
   "version": "3.6.10"
  }
 },
 "nbformat": 4,
 "nbformat_minor": 4
}
